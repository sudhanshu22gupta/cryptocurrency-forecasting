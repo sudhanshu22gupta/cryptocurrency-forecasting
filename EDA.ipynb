{
 "cells": [
  {
   "cell_type": "code",
   "execution_count": 5,
   "metadata": {},
   "outputs": [],
   "source": [
    "import pandas as pd\n",
    "import numpy as np\n",
    "\n",
    "import os\n",
    "\n",
    "from glob import glob\n",
    "from tqdm import tqdm"
   ]
  },
  {
   "cell_type": "code",
   "execution_count": 2,
   "metadata": {},
   "outputs": [],
   "source": [
    "DIR_CRYPTO_DATA = \"./data/1_Crypto_data/\"\n",
    "DIR_FINANCIAL_DATA = \"./data/1_Financial_component_data/\""
   ]
  },
  {
   "cell_type": "code",
   "execution_count": 38,
   "metadata": {},
   "outputs": [],
   "source": [
    "dict_assets = {}\n",
    "for file_crypto in glob(f\"{DIR_CRYPTO_DATA}*.csv\"):\n",
    "    asset_name = os.path.basename(file_crypto).split(\".\")[0]\n",
    "    df_asset = pd.read_csv(file_crypto)\n",
    "    df_asset['Date'] = pd.to_datetime(df_asset['Date'])\n",
    "    df_asset.index = df_asset['Date']\n",
    "    df_asset.index.name = None\n",
    "    dict_assets[asset_name] = df_asset"
   ]
  },
  {
   "cell_type": "code",
   "execution_count": 40,
   "metadata": {},
   "outputs": [],
   "source": [
    "dict_fd = {}\n",
    "for file_fd in glob(f\"{DIR_FINANCIAL_DATA}*.csv\"):\n",
    "    fd_name = os.path.basename(file_fd).split(\".\")[0]\n",
    "    df_fd = pd.read_csv(file_fd)\n",
    "    df_fd['Date'] = pd.to_datetime(df_fd['Date'])\n",
    "    df_fd.rename(columns={col: col.strip() for col in df_fd.columns}, inplace=True)\n",
    "    if ('Adj Close' not in df_fd.columns) and ('Close' in df_fd.columns):\n",
    "        df_fd['Adj Close'] = df_fd['Close'].copy()\n",
    "    df_fd.index = df_fd['Date']\n",
    "    df_fd.index.name = None\n",
    "    dict_fd[fd_name] = df_fd"
   ]
  },
  {
   "cell_type": "code",
   "execution_count": 41,
   "metadata": {},
   "outputs": [
    {
     "data": {
      "text/plain": [
       "dict_keys(['^N225', 'S_P 500 index', '^IXIC', 'EURUSD=X', '^VIX', '^RUT'])"
      ]
     },
     "execution_count": 41,
     "metadata": {},
     "output_type": "execute_result"
    }
   ],
   "source": [
    "dict_fd.keys()"
   ]
  },
  {
   "cell_type": "code",
   "execution_count": 42,
   "metadata": {},
   "outputs": [
    {
     "data": {
      "text/html": [
       "<div>\n",
       "<style scoped>\n",
       "    .dataframe tbody tr th:only-of-type {\n",
       "        vertical-align: middle;\n",
       "    }\n",
       "\n",
       "    .dataframe tbody tr th {\n",
       "        vertical-align: top;\n",
       "    }\n",
       "\n",
       "    .dataframe thead th {\n",
       "        text-align: right;\n",
       "    }\n",
       "</style>\n",
       "<table border=\"1\" class=\"dataframe\">\n",
       "  <thead>\n",
       "    <tr style=\"text-align: right;\">\n",
       "      <th></th>\n",
       "      <th>Date</th>\n",
       "      <th>Open</th>\n",
       "      <th>High</th>\n",
       "      <th>Low</th>\n",
       "      <th>Close</th>\n",
       "      <th>Adj Close</th>\n",
       "      <th>Volume</th>\n",
       "    </tr>\n",
       "  </thead>\n",
       "  <tbody>\n",
       "  </tbody>\n",
       "</table>\n",
       "</div>"
      ],
      "text/plain": [
       "Empty DataFrame\n",
       "Columns: [Date, Open, High, Low, Close, Adj Close, Volume]\n",
       "Index: []"
      ]
     },
     "execution_count": 42,
     "metadata": {},
     "output_type": "execute_result"
    }
   ],
   "source": [
    "df_asset.loc[df_asset['Volume']<0]"
   ]
  },
  {
   "cell_type": "code",
   "execution_count": null,
   "metadata": {},
   "outputs": [],
   "source": []
  }
 ],
 "metadata": {
  "kernelspec": {
   "display_name": "Python 3.9.6 ('venv_crypto': venv)",
   "language": "python",
   "name": "python3"
  },
  "language_info": {
   "codemirror_mode": {
    "name": "ipython",
    "version": 3
   },
   "file_extension": ".py",
   "mimetype": "text/x-python",
   "name": "python",
   "nbconvert_exporter": "python",
   "pygments_lexer": "ipython3",
   "version": "3.9.6"
  },
  "orig_nbformat": 4,
  "vscode": {
   "interpreter": {
    "hash": "c99bcfbf9633e5448fa88c9a782d1cab495500b46d77e03992d31a16ff5466e9"
   }
  }
 },
 "nbformat": 4,
 "nbformat_minor": 2
}
