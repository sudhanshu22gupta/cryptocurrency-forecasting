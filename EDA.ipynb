{
 "cells": [
  {
   "cell_type": "markdown",
   "metadata": {},
   "source": [
    "# Imports"
   ]
  },
  {
   "cell_type": "code",
   "execution_count": 1,
   "metadata": {},
   "outputs": [],
   "source": [
    "%reload_ext autoreload\n",
    "%autoreload 2"
   ]
  },
  {
   "cell_type": "code",
   "execution_count": 2,
   "metadata": {},
   "outputs": [],
   "source": [
    "import pandas as pd\n",
    "import numpy as np\n",
    "\n",
    "import os\n",
    "\n",
    "from glob import glob\n",
    "from tqdm import tqdm\n",
    "\n",
    "import warnings\n",
    "warnings.filterwarnings(\"ignore\")"
   ]
  },
  {
   "cell_type": "code",
   "execution_count": 3,
   "metadata": {},
   "outputs": [],
   "source": [
    "from data_transformation import CleanData\n",
    "from features_library import FeatureTransformations"
   ]
  },
  {
   "cell_type": "markdown",
   "metadata": {},
   "source": [
    "# Load Data"
   ]
  },
  {
   "cell_type": "code",
   "execution_count": 4,
   "metadata": {},
   "outputs": [],
   "source": [
    "DIR_CRYPTO_DATA = \"./data/1_Crypto_data/\"\n",
    "DIR_FINANCIAL_DATA = \"./data/1_Financial_component_data/\""
   ]
  },
  {
   "cell_type": "code",
   "execution_count": 5,
   "metadata": {},
   "outputs": [],
   "source": [
    "# all transformations on all cryto assets"
   ]
  },
  {
   "cell_type": "code",
   "execution_count": 6,
   "metadata": {},
   "outputs": [],
   "source": [
    "dict_assets = {}\n",
    "for file_crypto in glob(f\"{DIR_CRYPTO_DATA}*.csv\"):\n",
    "\n",
    "    # Read CSV\n",
    "    asset_name = os.path.basename(file_crypto).split(\".\")[0]\n",
    "    df_asset = pd.read_csv(file_crypto)\n",
    "\n",
    "    # Pre-Process Data\n",
    "    preproc = CleanData(df_asset)\n",
    "    preproc.make_datetime_index(date_col='Date')\n",
    "    preproc.resample(freq='1D')\n",
    "    preproc.strip_column_name()\n",
    "\n",
    "    # assign to dict\n",
    "    dict_assets[asset_name] = preproc.df\n"
   ]
  },
  {
   "cell_type": "code",
   "execution_count": 7,
   "metadata": {},
   "outputs": [
    {
     "data": {
      "text/plain": [
       "Index(['Open', 'High', 'Low', 'Close', 'Adj Close', 'Volume'], dtype='object')"
      ]
     },
     "execution_count": 7,
     "metadata": {},
     "output_type": "execute_result"
    }
   ],
   "source": [
    "df_asset.columns"
   ]
  },
  {
   "cell_type": "code",
   "execution_count": 8,
   "metadata": {},
   "outputs": [],
   "source": [
    "dict_fd = {}\n",
    "for file_fd in glob(f\"{DIR_FINANCIAL_DATA}*.csv\"):\n",
    "\n",
    "    # Read CSV\n",
    "    fd_name = os.path.basename(file_fd).split(\".\")[0]\n",
    "    df_fd = pd.read_csv(file_fd)\n",
    "\n",
    "    # Pre-Process Data\n",
    "    preproc = CleanData(df_fd)\n",
    "    preproc.make_datetime_index(date_col='Date')\n",
    "    preproc.resample(freq='1D')\n",
    "    preproc.strip_column_name()\n",
    "\n",
    "    # Keep??\n",
    "    # if ('Adj Close' not in df_fd.columns) and ('Close' in df_fd.columns):\n",
    "    #     df_fd['Adj Close'] = df_fd['Close'].copy()\n",
    "\n",
    "    # assign to dict\n",
    "    dict_fd[fd_name] = preproc.df\n"
   ]
  },
  {
   "cell_type": "code",
   "execution_count": 9,
   "metadata": {},
   "outputs": [
    {
     "data": {
      "text/html": [
       "<div>\n",
       "<style scoped>\n",
       "    .dataframe tbody tr th:only-of-type {\n",
       "        vertical-align: middle;\n",
       "    }\n",
       "\n",
       "    .dataframe tbody tr th {\n",
       "        vertical-align: top;\n",
       "    }\n",
       "\n",
       "    .dataframe thead th {\n",
       "        text-align: right;\n",
       "    }\n",
       "</style>\n",
       "<table border=\"1\" class=\"dataframe\">\n",
       "  <thead>\n",
       "    <tr style=\"text-align: right;\">\n",
       "      <th></th>\n",
       "      <th>Tcm1mo</th>\n",
       "      <th>Tcm3mo</th>\n",
       "      <th>Tcm1yr</th>\n",
       "      <th>Tcm5yr</th>\n",
       "      <th>Tcm10yr</th>\n",
       "    </tr>\n",
       "  </thead>\n",
       "  <tbody>\n",
       "    <tr>\n",
       "      <th>1997-01-02</th>\n",
       "      <td>0.0519</td>\n",
       "      <td>0.0519</td>\n",
       "      <td>0.0563</td>\n",
       "      <td>0.0630</td>\n",
       "      <td>0.0654</td>\n",
       "    </tr>\n",
       "    <tr>\n",
       "      <th>1997-01-03</th>\n",
       "      <td>0.0517</td>\n",
       "      <td>0.0517</td>\n",
       "      <td>0.0560</td>\n",
       "      <td>0.0628</td>\n",
       "      <td>0.0652</td>\n",
       "    </tr>\n",
       "    <tr>\n",
       "      <th>1997-01-04</th>\n",
       "      <td>NaN</td>\n",
       "      <td>NaN</td>\n",
       "      <td>NaN</td>\n",
       "      <td>NaN</td>\n",
       "      <td>NaN</td>\n",
       "    </tr>\n",
       "    <tr>\n",
       "      <th>1997-01-05</th>\n",
       "      <td>NaN</td>\n",
       "      <td>NaN</td>\n",
       "      <td>NaN</td>\n",
       "      <td>NaN</td>\n",
       "      <td>NaN</td>\n",
       "    </tr>\n",
       "    <tr>\n",
       "      <th>1997-01-06</th>\n",
       "      <td>0.0517</td>\n",
       "      <td>0.0517</td>\n",
       "      <td>0.0561</td>\n",
       "      <td>0.0630</td>\n",
       "      <td>0.0654</td>\n",
       "    </tr>\n",
       "    <tr>\n",
       "      <th>...</th>\n",
       "      <td>...</td>\n",
       "      <td>...</td>\n",
       "      <td>...</td>\n",
       "      <td>...</td>\n",
       "      <td>...</td>\n",
       "    </tr>\n",
       "    <tr>\n",
       "      <th>2023-03-16</th>\n",
       "      <td>0.0422</td>\n",
       "      <td>0.0474</td>\n",
       "      <td>0.0449</td>\n",
       "      <td>0.0372</td>\n",
       "      <td>0.0356</td>\n",
       "    </tr>\n",
       "    <tr>\n",
       "      <th>2023-03-17</th>\n",
       "      <td>0.0431</td>\n",
       "      <td>0.0452</td>\n",
       "      <td>0.0426</td>\n",
       "      <td>0.0344</td>\n",
       "      <td>0.0339</td>\n",
       "    </tr>\n",
       "    <tr>\n",
       "      <th>2023-03-18</th>\n",
       "      <td>NaN</td>\n",
       "      <td>NaN</td>\n",
       "      <td>NaN</td>\n",
       "      <td>NaN</td>\n",
       "      <td>NaN</td>\n",
       "    </tr>\n",
       "    <tr>\n",
       "      <th>2023-03-19</th>\n",
       "      <td>NaN</td>\n",
       "      <td>NaN</td>\n",
       "      <td>NaN</td>\n",
       "      <td>NaN</td>\n",
       "      <td>NaN</td>\n",
       "    </tr>\n",
       "    <tr>\n",
       "      <th>2023-03-20</th>\n",
       "      <td>0.0434</td>\n",
       "      <td>0.0481</td>\n",
       "      <td>0.0434</td>\n",
       "      <td>0.0356</td>\n",
       "      <td>0.0347</td>\n",
       "    </tr>\n",
       "  </tbody>\n",
       "</table>\n",
       "<p>9574 rows × 5 columns</p>\n",
       "</div>"
      ],
      "text/plain": [
       "            Tcm1mo  Tcm3mo  Tcm1yr  Tcm5yr  Tcm10yr\n",
       "1997-01-02  0.0519  0.0519  0.0563  0.0630   0.0654\n",
       "1997-01-03  0.0517  0.0517  0.0560  0.0628   0.0652\n",
       "1997-01-04     NaN     NaN     NaN     NaN      NaN\n",
       "1997-01-05     NaN     NaN     NaN     NaN      NaN\n",
       "1997-01-06  0.0517  0.0517  0.0561  0.0630   0.0654\n",
       "...            ...     ...     ...     ...      ...\n",
       "2023-03-16  0.0422  0.0474  0.0449  0.0372   0.0356\n",
       "2023-03-17  0.0431  0.0452  0.0426  0.0344   0.0339\n",
       "2023-03-18     NaN     NaN     NaN     NaN      NaN\n",
       "2023-03-19     NaN     NaN     NaN     NaN      NaN\n",
       "2023-03-20  0.0434  0.0481  0.0434  0.0356   0.0347\n",
       "\n",
       "[9574 rows x 5 columns]"
      ]
     },
     "execution_count": 9,
     "metadata": {},
     "output_type": "execute_result"
    }
   ],
   "source": [
    "df_risk_free = pd.read_excel(os.path.join(DIR_FINANCIAL_DATA, \"RiskFree.xls\"))\n",
    "df_risk_free.index = df_risk_free['TcmDate']\n",
    "df_risk_free.index.name = None\n",
    "df_risk_free = df_risk_free[['Tcm1mo', 'Tcm3mo', 'Tcm1yr', 'Tcm5yr', 'Tcm10yr']]\n",
    "df_risk_free = df_risk_free.resample('1D').first()\n",
    "df_risk_free"
   ]
  },
  {
   "cell_type": "markdown",
   "metadata": {},
   "source": [
    "# Feature Engineering"
   ]
  },
  {
   "cell_type": "markdown",
   "metadata": {},
   "source": [
    "## Make Feature Transformations"
   ]
  },
  {
   "cell_type": "markdown",
   "metadata": {},
   "source": [
    "For Assets, apply all feature transformations"
   ]
  },
  {
   "cell_type": "code",
   "execution_count": 10,
   "metadata": {},
   "outputs": [],
   "source": [
    "for asset in dict_assets:\n",
    "    feature_transformer = FeatureTransformations(dict_assets[asset])\n",
    "    feature_transformer.transform_assets()\n",
    "    dict_assets[asset] = feature_transformer.df_asset"
   ]
  },
  {
   "cell_type": "markdown",
   "metadata": {},
   "source": [
    "For S&P500, apply selected feature transformations"
   ]
  },
  {
   "cell_type": "code",
   "execution_count": 11,
   "metadata": {},
   "outputs": [],
   "source": [
    "dict_fd['S_P 500 index']['Volume'] = np.nan\n",
    "feature_transformer = FeatureTransformations(dict_fd['S_P 500 index'])\n",
    "feature_transformer.transform_snp500()\n",
    "dict_fd['S_P 500 index'] = feature_transformer.df_asset\n",
    "dict_fd['S_P 500 index'].drop(columns=['Volume'], inplace=True)"
   ]
  },
  {
   "cell_type": "markdown",
   "metadata": {},
   "source": [
    "## Add Financial Data to assets"
   ]
  },
  {
   "cell_type": "code",
   "execution_count": 12,
   "metadata": {},
   "outputs": [],
   "source": [
    "for asset_name, df_asset in dict_assets.items():\n",
    "    \n",
    "    ASSET_START_PERIOD = df_asset.index.min()\n",
    "    ASSET_END_PERIOD = df_asset.index.max()\n",
    "\n",
    "    for financial_dataset, df_fd in dict_fd.items():\n",
    "\n",
    "        df_fd = df_fd[ASSET_START_PERIOD:ASSET_END_PERIOD]\n",
    "        \n",
    "        rename_fd_cols = {column: f\"{financial_dataset}_{column}\".replace(\" \", \"_\") for column in df_fd.columns}\n",
    "        df_fd.rename(columns=rename_fd_cols, inplace=True)\n",
    "        df_asset = pd.concat([df_asset, df_fd, df_risk_free[ASSET_START_PERIOD:ASSET_END_PERIOD]], axis=1)\n",
    "    \n",
    "    dict_assets[asset_name] = df_asset"
   ]
  },
  {
   "cell_type": "code",
   "execution_count": null,
   "metadata": {},
   "outputs": [],
   "source": []
  }
 ],
 "metadata": {
  "kernelspec": {
   "display_name": "Python 3.9.6 ('venv_crypto': venv)",
   "language": "python",
   "name": "python3"
  },
  "language_info": {
   "codemirror_mode": {
    "name": "ipython",
    "version": 3
   },
   "file_extension": ".py",
   "mimetype": "text/x-python",
   "name": "python",
   "nbconvert_exporter": "python",
   "pygments_lexer": "ipython3",
   "version": "3.9.6"
  },
  "orig_nbformat": 4,
  "vscode": {
   "interpreter": {
    "hash": "c99bcfbf9633e5448fa88c9a782d1cab495500b46d77e03992d31a16ff5466e9"
   }
  }
 },
 "nbformat": 4,
 "nbformat_minor": 2
}
