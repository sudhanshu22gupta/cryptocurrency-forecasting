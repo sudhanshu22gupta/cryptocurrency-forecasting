{
 "cells": [
  {
   "cell_type": "markdown",
   "metadata": {},
   "source": [
    "# Imports"
   ]
  },
  {
   "cell_type": "code",
   "execution_count": 1,
   "metadata": {},
   "outputs": [],
   "source": [
    "import pandas as pd\n",
    "import numpy as np\n",
    "\n",
    "import os\n",
    "\n",
    "from glob import glob\n",
    "from tqdm import tqdm\n"
   ]
  },
  {
   "cell_type": "code",
   "execution_count": 2,
   "metadata": {},
   "outputs": [],
   "source": [
    "from data_transformation import CleanData\n",
    "from features_library import (daily_returns, daily_volatility,\n",
    "                              daily_log_returns, daily_squared_returns, \n",
    "                              monthly_realized_volatility, weekly_realized_volatility, \n",
    "                              relative_price_range, money_flow_index, \n",
    "                              avg_directional_movement_index, williams_accumulation_distribution)"
   ]
  },
  {
   "cell_type": "markdown",
   "metadata": {},
   "source": [
    "# Load Data"
   ]
  },
  {
   "cell_type": "code",
   "execution_count": 3,
   "metadata": {},
   "outputs": [],
   "source": [
    "DIR_CRYPTO_DATA = \"./data/1_Crypto_data/\"\n",
    "DIR_FINANCIAL_DATA = \"./data/1_Financial_component_data/\"\n"
   ]
  },
  {
   "cell_type": "code",
   "execution_count": 4,
   "metadata": {},
   "outputs": [],
   "source": [
    "dict_assets = {}\n",
    "for file_crypto in glob(f\"{DIR_CRYPTO_DATA}*.csv\"):\n",
    "\n",
    "    # Read CSV\n",
    "    asset_name = os.path.basename(file_crypto).split(\".\")[0]\n",
    "    df_asset = pd.read_csv(file_crypto)\n",
    "\n",
    "    # Pre-Process Data\n",
    "    preproc = CleanData(df_asset)\n",
    "    preproc.make_datetime_index(date_col='Date')\n",
    "    preproc.resample(freq='1D')\n",
    "    preproc.strip_column_name()\n",
    "\n",
    "    # assign to dict\n",
    "    dict_assets[asset_name] = preproc.df\n"
   ]
  },
  {
   "cell_type": "code",
   "execution_count": 5,
   "metadata": {},
   "outputs": [],
   "source": [
    "dict_fd = {}\n",
    "for file_fd in glob(f\"{DIR_FINANCIAL_DATA}*.csv\"):\n",
    "\n",
    "    # Read CSV\n",
    "    fd_name = os.path.basename(file_fd).split(\".\")[0]\n",
    "    df_fd = pd.read_csv(file_fd)\n",
    "\n",
    "    # Pre-Process Data\n",
    "    preproc = CleanData(df_fd)\n",
    "    preproc.make_datetime_index(date_col='Date')\n",
    "    preproc.resample(freq='1D')\n",
    "    preproc.strip_column_name()\n",
    "\n",
    "    # Keep??\n",
    "    # if ('Adj Close' not in df_fd.columns) and ('Close' in df_fd.columns):\n",
    "    #     df_fd['Adj Close'] = df_fd['Close'].copy()\n",
    "\n",
    "    # assign to dict\n",
    "    dict_fd[fd_name] = preproc.df\n"
   ]
  },
  {
   "cell_type": "markdown",
   "metadata": {},
   "source": [
    "# Feature Engineering"
   ]
  },
  {
   "cell_type": "code",
   "execution_count": null,
   "metadata": {},
   "outputs": [],
   "source": [
    "dict_features =\n"
   ]
  },
  {
   "cell_type": "code",
   "execution_count": 7,
   "metadata": {},
   "outputs": [
    {
     "data": {
      "text/plain": [
       "Index(['Open', 'High', 'Low', 'Close', 'Adj Close', 'Volume'], dtype='object')"
      ]
     },
     "execution_count": 7,
     "metadata": {},
     "output_type": "execute_result"
    }
   ],
   "source": [
    "preproc.df.columns\n"
   ]
  },
  {
   "cell_type": "code",
   "execution_count": 8,
   "metadata": {},
   "outputs": [
    {
     "data": {
      "text/plain": [
       "2020-09-22         NaN\n",
       "2020-09-23    0.067158\n",
       "2020-09-24   -0.282568\n",
       "2020-09-25    0.208517\n",
       "2020-09-26    0.021610\n",
       "                ...   \n",
       "2023-02-24   -0.030262\n",
       "2023-02-25   -0.067448\n",
       "2023-02-26   -0.022647\n",
       "2023-02-27    0.027038\n",
       "2023-02-28   -0.027326\n",
       "Freq: D, Name: Open, Length: 890, dtype: float64"
      ]
     },
     "execution_count": 8,
     "metadata": {},
     "output_type": "execute_result"
    }
   ],
   "source": [
    "daily_returns(dict_assets['AVAX-USD']['Open'])\n"
   ]
  },
  {
   "cell_type": "code",
   "execution_count": null,
   "metadata": {},
   "outputs": [],
   "source": []
  }
 ],
 "metadata": {
  "kernelspec": {
   "display_name": "Python 3.9.6 ('venv_crypto': venv)",
   "language": "python",
   "name": "python3"
  },
  "language_info": {
   "codemirror_mode": {
    "name": "ipython",
    "version": 3
   },
   "file_extension": ".py",
   "mimetype": "text/x-python",
   "name": "python",
   "nbconvert_exporter": "python",
   "pygments_lexer": "ipython3",
   "version": "3.9.6"
  },
  "orig_nbformat": 4,
  "vscode": {
   "interpreter": {
    "hash": "c99bcfbf9633e5448fa88c9a782d1cab495500b46d77e03992d31a16ff5466e9"
   }
  }
 },
 "nbformat": 4,
 "nbformat_minor": 2
}
